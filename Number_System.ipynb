{
 "cells": [
  {
   "cell_type": "code",
   "execution_count": null,
   "metadata": {},
   "outputs": [],
   "source": [
    "#Base 22\n",
    "0 = 0\n",
    "1 = 1\n",
    "2 = 2\n",
    "3 = 3\n",
    "4 = 4\n",
    "5 = 5\n",
    "6 = 6\n",
    "7 = 7\n",
    "8 = 8\n",
    "9 = 9\n",
    "A = 10\n",
    "B = 11\n",
    "C = 12\n",
    "D = 13\n",
    "E = 14\n",
    "F = 15\n",
    "G = 16\n",
    "H = 17\n",
    "I = 18\n",
    "J = 19\n",
    "K = 20\n",
    "L = 21\n",
    "10\n",
    "11\n",
    "12\n",
    "13\n",
    "14\n",
    "15\n",
    "16\n",
    "17\n",
    "18\n",
    "19\n",
    "1A\n",
    "1B\n",
    "1C\n",
    "...\n",
    "1L\n",
    "20\n",
    "21\n",
    "22\n",
    "...\n",
    "2L"
   ]
  }
 ],
 "metadata": {
  "kernelspec": {
   "display_name": "Python3.10",
   "language": "python",
   "name": "python3.10"
  },
  "language_info": {
   "codemirror_mode": {
    "name": "ipython",
    "version": 3
   },
   "file_extension": ".py",
   "mimetype": "text/x-python",
   "name": "python",
   "nbconvert_exporter": "python",
   "pygments_lexer": "ipython3",
   "version": "3.10.14"
  },
  "toc": {
   "base_numbering": 1,
   "nav_menu": {},
   "number_sections": true,
   "sideBar": true,
   "skip_h1_title": false,
   "title_cell": "Table of Contents",
   "title_sidebar": "Contents",
   "toc_cell": false,
   "toc_position": {},
   "toc_section_display": true,
   "toc_window_display": false
  }
 },
 "nbformat": 4,
 "nbformat_minor": 2
}
